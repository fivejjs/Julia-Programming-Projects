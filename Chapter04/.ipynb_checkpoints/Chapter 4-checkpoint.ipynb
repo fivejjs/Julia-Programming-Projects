{
 "cells": [
  {
   "cell_type": "code",
   "execution_count": 1,
   "metadata": {},
   "outputs": [
    {
     "name": "stderr",
     "output_type": "stream",
     "text": [
      "\u001b[32m\u001b[1m Activating\u001b[22m\u001b[39m environment at `~/wa/julia_wa/tmp/Julia-Programming-Projects/Chapter04/Project.toml`\n"
     ]
    }
   ],
   "source": [
    "using Pkg\n",
    "pkg\"activate .\""
   ]
  },
  {
   "cell_type": "code",
   "execution_count": 3,
   "metadata": {},
   "outputs": [],
   "source": [
    "# Run this cell in order to download all the package dependencies with the exact versions used in the book\n",
    "# This is necessary if (some of) the packages have been updated and have introduced breaking changes\n",
    "pkg\"instantiate\""
   ]
  },
  {
   "cell_type": "code",
   "execution_count": 4,
   "metadata": {},
   "outputs": [
    {
     "data": {
      "text/plain": [
       "rand (generic function with 70 methods)"
      ]
     },
     "execution_count": 4,
     "metadata": {},
     "output_type": "execute_result"
    }
   ],
   "source": [
    "rand"
   ]
  },
  {
   "cell_type": "code",
   "execution_count": 5,
   "metadata": {},
   "outputs": [
    {
     "ename": "LoadError",
     "evalue": "error in method definition: function Base.rand must be explicitly imported to be extended",
     "output_type": "error",
     "traceback": [
      "error in method definition: function Base.rand must be explicitly imported to be extended",
      "",
      "Stacktrace:",
      " [1] top-level scope at none:0",
      " [2] top-level scope at In[5]:1",
      " [3] include_string(::Function, ::Module, ::String, ::String) at ./loading.jl:1091",
      " [4] execute_code(::String, ::String) at /Users/per0/.julia/packages/IJulia/rWZ9e/src/execute_request.jl:27",
      " [5] execute_request(::ZMQ.Socket, ::IJulia.Msg) at /Users/per0/.julia/packages/IJulia/rWZ9e/src/execute_request.jl:86",
      " [6] #invokelatest#1 at ./essentials.jl:710 [inlined]",
      " [7] invokelatest at ./essentials.jl:709 [inlined]",
      " [8] eventloop(::ZMQ.Socket) at /Users/per0/.julia/packages/IJulia/rWZ9e/src/eventloop.jl:8",
      " [9] (::IJulia.var\"#15#18\")() at ./task.jl:356"
     ]
    }
   ],
   "source": [
    "function rand()\n",
    "   # \n",
    "end"
   ]
  },
  {
   "cell_type": "code",
   "execution_count": 6,
   "metadata": {},
   "outputs": [
    {
     "data": {
      "text/plain": [
       "Main.MyModule"
      ]
     },
     "execution_count": 6,
     "metadata": {},
     "output_type": "execute_result"
    }
   ],
   "source": [
    "module MyModule\n",
    "\n",
    "function rand()\n",
    "    println(\"I'll get a random Wikipedia page\")\n",
    "end\n",
    "\n",
    "end"
   ]
  },
  {
   "cell_type": "code",
   "execution_count": 7,
   "metadata": {},
   "outputs": [
    {
     "name": "stdout",
     "output_type": "stream",
     "text": [
      "I'll get a random Wikipedia page\n"
     ]
    }
   ],
   "source": [
    "MyModule.rand()"
   ]
  },
  {
   "cell_type": "code",
   "execution_count": 8,
   "metadata": {},
   "outputs": [
    {
     "name": "stderr",
     "output_type": "stream",
     "text": [
      "mkdir: modules: File exists\n"
     ]
    }
   ],
   "source": [
    "; mkdir modules"
   ]
  },
  {
   "cell_type": "code",
   "execution_count": 9,
   "metadata": {},
   "outputs": [
    {
     "name": "stdout",
     "output_type": "stream",
     "text": [
      "/Users/per0/wa/julia_wa/tmp/Julia-Programming-Projects/Chapter04/modules\n"
     ]
    }
   ],
   "source": [
    "; cd modules "
   ]
  },
  {
   "cell_type": "code",
   "execution_count": 10,
   "metadata": {},
   "outputs": [],
   "source": [
    "for f in [\"Letters.jl\", \"Numbers.jl\", \"module_name.jl\"]\n",
    "    touch(f)\n",
    "end"
   ]
  },
  {
   "cell_type": "code",
   "execution_count": 11,
   "metadata": {},
   "outputs": [
    {
     "data": {
      "text/plain": [
       "4-element Array{String,1}:\n",
       " \"Letters.jl\"\n",
       " \"Numbers.jl\"\n",
       " \"module_name.jl\"\n",
       " \"testinclude.jl\""
      ]
     },
     "execution_count": 11,
     "metadata": {},
     "output_type": "execute_result"
    }
   ],
   "source": [
    "readdir()"
   ]
  },
  {
   "cell_type": "code",
   "execution_count": null,
   "metadata": {},
   "outputs": [],
   "source": [
    "edit(\"Letters.jl\")"
   ]
  },
  {
   "cell_type": "code",
   "execution_count": null,
   "metadata": {},
   "outputs": [],
   "source": [
    "function testinclude()\n",
    "    include(\"testinclude.jl\")\n",
    "    println(somevar)\n",
    "end"
   ]
  },
  {
   "cell_type": "code",
   "execution_count": null,
   "metadata": {},
   "outputs": [],
   "source": [
    "testinclude()"
   ]
  },
  {
   "cell_type": "code",
   "execution_count": null,
   "metadata": {},
   "outputs": [],
   "source": [
    "somevar"
   ]
  },
  {
   "cell_type": "code",
   "execution_count": null,
   "metadata": {},
   "outputs": [],
   "source": [
    "LOAD_PATH"
   ]
  },
  {
   "cell_type": "code",
   "execution_count": null,
   "metadata": {},
   "outputs": [],
   "source": [
    "push!(LOAD_PATH, \"/path/to/modules\") # replace \"/path/to/modules\" with the actual path to the \"modules/\" folder"
   ]
  },
  {
   "cell_type": "code",
   "execution_count": null,
   "metadata": {},
   "outputs": [],
   "source": [
    "push!(LOAD_PATH, \".\")"
   ]
  },
  {
   "cell_type": "code",
   "execution_count": null,
   "metadata": {},
   "outputs": [],
   "source": [
    "using Letters"
   ]
  },
  {
   "cell_type": "code",
   "execution_count": null,
   "metadata": {},
   "outputs": [],
   "source": [
    "randstring()"
   ]
  },
  {
   "cell_type": "code",
   "execution_count": null,
   "metadata": {},
   "outputs": [],
   "source": [
    "myname()"
   ]
  },
  {
   "cell_type": "code",
   "execution_count": null,
   "metadata": {},
   "outputs": [],
   "source": [
    "Letters.myname()"
   ]
  },
  {
   "cell_type": "code",
   "execution_count": null,
   "metadata": {},
   "outputs": [],
   "source": [
    "Letters.rand()"
   ]
  },
  {
   "cell_type": "code",
   "execution_count": null,
   "metadata": {},
   "outputs": [],
   "source": [
    "names(Letters)"
   ]
  },
  {
   "cell_type": "code",
   "execution_count": null,
   "metadata": {},
   "outputs": [],
   "source": [
    "names(Letters, all = true)"
   ]
  },
  {
   "cell_type": "code",
   "execution_count": null,
   "metadata": {},
   "outputs": [],
   "source": [
    "using Letters: myname"
   ]
  },
  {
   "cell_type": "code",
   "execution_count": null,
   "metadata": {},
   "outputs": [],
   "source": [
    "myname()"
   ]
  },
  {
   "cell_type": "code",
   "execution_count": null,
   "metadata": {},
   "outputs": [],
   "source": [
    "using Letters: myname, MY_NAME"
   ]
  },
  {
   "cell_type": "code",
   "execution_count": null,
   "metadata": {},
   "outputs": [],
   "source": [
    "MY_NAME"
   ]
  },
  {
   "cell_type": "code",
   "execution_count": null,
   "metadata": {},
   "outputs": [],
   "source": [
    "import Numbers"
   ]
  },
  {
   "cell_type": "code",
   "execution_count": null,
   "metadata": {},
   "outputs": [],
   "source": [
    "names(Numbers)"
   ]
  },
  {
   "cell_type": "code",
   "execution_count": null,
   "metadata": {},
   "outputs": [],
   "source": [
    "halfrand()"
   ]
  },
  {
   "cell_type": "code",
   "execution_count": null,
   "metadata": {},
   "outputs": [],
   "source": [
    "import Numbers.halfrand, Numbers.MY_NAME"
   ]
  },
  {
   "cell_type": "code",
   "execution_count": null,
   "metadata": {},
   "outputs": [],
   "source": [
    "halfrand()"
   ]
  },
  {
   "cell_type": "code",
   "execution_count": null,
   "metadata": {},
   "outputs": [],
   "source": [
    "import Numbers: halfrand, MY_NAME"
   ]
  },
  {
   "cell_type": "code",
   "execution_count": null,
   "metadata": {},
   "outputs": [],
   "source": [
    "halfrand()"
   ]
  },
  {
   "cell_type": "code",
   "execution_count": null,
   "metadata": {},
   "outputs": [],
   "source": [
    "double(x) = x*2"
   ]
  },
  {
   "cell_type": "code",
   "execution_count": 12,
   "metadata": {},
   "outputs": [
    {
     "ename": "LoadError",
     "evalue": "UndefVarError: double not defined",
     "output_type": "error",
     "traceback": [
      "UndefVarError: double not defined",
      "",
      "Stacktrace:",
      " [1] top-level scope at In[12]:1",
      " [2] include_string(::Function, ::Module, ::String, ::String) at ./loading.jl:1091",
      " [3] execute_code(::String, ::String) at /Users/per0/.julia/packages/IJulia/rWZ9e/src/execute_request.jl:27",
      " [4] execute_request(::ZMQ.Socket, ::IJulia.Msg) at /Users/per0/.julia/packages/IJulia/rWZ9e/src/execute_request.jl:86",
      " [5] #invokelatest#1 at ./essentials.jl:710 [inlined]",
      " [6] invokelatest at ./essentials.jl:709 [inlined]",
      " [7] eventloop(::ZMQ.Socket) at /Users/per0/.julia/packages/IJulia/rWZ9e/src/eventloop.jl:8",
      " [8] (::IJulia.var\"#15#18\")() at ./task.jl:356"
     ]
    }
   ],
   "source": [
    "map(double, [1, 2, 3, 5, 8, 13])"
   ]
  },
  {
   "cell_type": "code",
   "execution_count": 13,
   "metadata": {},
   "outputs": [
    {
     "data": {
      "text/plain": [
       "6-element Array{Int64,1}:\n",
       "  2\n",
       "  4\n",
       "  6\n",
       " 10\n",
       " 16\n",
       " 26"
      ]
     },
     "execution_count": 13,
     "metadata": {},
     "output_type": "execute_result"
    }
   ],
   "source": [
    "map(x -> x*2, [1, 2, 3, 5, 8, 13])"
   ]
  },
  {
   "cell_type": "code",
   "execution_count": null,
   "metadata": {},
   "outputs": [],
   "source": [
    "map(x ->\n",
    "\tif x % 2 == 0\n",
    "\t\tx * 2\n",
    "\telseif x % 3 == 0\n",
    "\t\tx * 3\n",
    "\telseif x % 5 == 0\n",
    "\t\tx * 5\n",
    "\telse\n",
    "\t\tx\n",
    "\tend, \n",
    "\t[1, 2, 3, 5, 8, 13])"
   ]
  },
  {
   "cell_type": "code",
   "execution_count": 14,
   "metadata": {},
   "outputs": [
    {
     "data": {
      "text/plain": [
       "6-element Array{Int64,1}:\n",
       "  1\n",
       "  4\n",
       "  9\n",
       " 25\n",
       " 16\n",
       " 13"
      ]
     },
     "execution_count": 14,
     "metadata": {},
     "output_type": "execute_result"
    }
   ],
   "source": [
    "map([1, 2, 3, 5, 8, 13]) do x\n",
    "    if x % 2 == 0\n",
    "        x * 2\n",
    "    elseif x % 3 == 0\n",
    "        x * 3\n",
    "    elseif x % 5 == 0\n",
    "        x * 5\n",
    "    else\n",
    "        x\n",
    "    end\n",
    " end"
   ]
  },
  {
   "cell_type": "code",
   "execution_count": 15,
   "metadata": {},
   "outputs": [],
   "source": [
    "struct Article\n",
    "\tcontent::String\n",
    "    links::Vector{String}\n",
    "    title::String\n",
    "    image::String\n",
    "end"
   ]
  },
  {
   "cell_type": "code",
   "execution_count": 16,
   "metadata": {},
   "outputs": [
    {
     "data": {
      "text/plain": [
       "Article(\"Julia is a high-level dynamic programming language\", [\"/wiki/Jeff_Bezanson\", \"/wiki/Stefan_Karpinski\", \"/wiki/Viral_B._Shah\", \"/wiki/Alan_Edelman\"], \"Julia (programming language)\", \"/220px-Julia_prog_language.svg.png\")"
      ]
     },
     "execution_count": 16,
     "metadata": {},
     "output_type": "execute_result"
    }
   ],
   "source": [
    "julia = Article(\n",
    "           \"Julia is a high-level dynamic programming language\",\n",
    "           [\"/wiki/Jeff_Bezanson\", \n",
    "            \"/wiki/Stefan_Karpinski\", \n",
    "            \"/wiki/Viral_B._Shah\", \n",
    "            \"/wiki/Alan_Edelman\"],\n",
    "           \"Julia (programming language)\",\n",
    "           \"/220px-Julia_prog_language.svg.png\"\n",
    "       )"
   ]
  },
  {
   "cell_type": "code",
   "execution_count": 17,
   "metadata": {},
   "outputs": [
    {
     "data": {
      "text/plain": [
       "\"Julia (programming language)\""
      ]
     },
     "execution_count": 17,
     "metadata": {},
     "output_type": "execute_result"
    }
   ],
   "source": [
    "julia.title"
   ]
  },
  {
   "cell_type": "code",
   "execution_count": 18,
   "metadata": {},
   "outputs": [
    {
     "ename": "LoadError",
     "evalue": "setfield! immutable struct of type Article cannot be changed",
     "output_type": "error",
     "traceback": [
      "setfield! immutable struct of type Article cannot be changed",
      "",
      "Stacktrace:",
      " [1] setproperty!(::Article, ::Symbol, ::String) at ./Base.jl:34",
      " [2] top-level scope at In[18]:1",
      " [3] include_string(::Function, ::Module, ::String, ::String) at ./loading.jl:1091",
      " [4] execute_code(::String, ::String) at /Users/per0/.julia/packages/IJulia/rWZ9e/src/execute_request.jl:27",
      " [5] execute_request(::ZMQ.Socket, ::IJulia.Msg) at /Users/per0/.julia/packages/IJulia/rWZ9e/src/execute_request.jl:86",
      " [6] #invokelatest#1 at ./essentials.jl:710 [inlined]",
      " [7] invokelatest at ./essentials.jl:709 [inlined]",
      " [8] eventloop(::ZMQ.Socket) at /Users/per0/.julia/packages/IJulia/rWZ9e/src/eventloop.jl:8",
      " [9] (::IJulia.var\"#15#18\")() at ./task.jl:356"
     ]
    }
   ],
   "source": [
    "julia.title = \"The best programming language, period\""
   ]
  },
  {
   "cell_type": "code",
   "execution_count": 19,
   "metadata": {},
   "outputs": [
    {
     "data": {
      "text/plain": [
       "5-element Array{String,1}:\n",
       " \"/wiki/Jeff_Bezanson\"\n",
       " \"/wiki/Stefan_Karpinski\"\n",
       " \"/wiki/Viral_B._Shah\"\n",
       " \"/wiki/Alan_Edelman\"\n",
       " \"/wiki/Multiple_dispatch\""
      ]
     },
     "execution_count": 19,
     "metadata": {},
     "output_type": "execute_result"
    }
   ],
   "source": [
    "push!(julia.links, \"/wiki/Multiple_dispatch\")"
   ]
  },
  {
   "cell_type": "code",
   "execution_count": 20,
   "metadata": {},
   "outputs": [
    {
     "ename": "LoadError",
     "evalue": "MethodError: Cannot `convert` an object of type Int64 to an object of type String\nClosest candidates are:\n  convert(::Type{T}, !Matched::T) where T<:AbstractString at strings/basic.jl:229\n  convert(::Type{T}, !Matched::AbstractString) where T<:AbstractString at strings/basic.jl:230\n  convert(::Type{T}, !Matched::T) where T at essentials.jl:171",
     "output_type": "error",
     "traceback": [
      "MethodError: Cannot `convert` an object of type Int64 to an object of type String\nClosest candidates are:\n  convert(::Type{T}, !Matched::T) where T<:AbstractString at strings/basic.jl:229\n  convert(::Type{T}, !Matched::AbstractString) where T<:AbstractString at strings/basic.jl:230\n  convert(::Type{T}, !Matched::T) where T at essentials.jl:171",
      "",
      "Stacktrace:",
      " [1] setindex!(::Array{String,1}, ::Int64, ::Int64) at ./array.jl:847",
      " [2] _unsafe_copyto!(::Array{String,1}, ::Int64, ::Array{Int64,1}, ::Int64, ::Int64) at ./array.jl:257",
      " [3] unsafe_copyto! at ./array.jl:311 [inlined]",
      " [4] _copyto_impl! at ./array.jl:335 [inlined]",
      " [5] copyto! at ./array.jl:321 [inlined]",
      " [6] copyto! at ./array.jl:347 [inlined]",
      " [7] copyto_axcheck! at ./abstractarray.jl:946 [inlined]",
      " [8] Array at ./array.jl:562 [inlined]",
      " [9] convert at ./array.jl:554 [inlined]",
      " [10] setproperty!(::Article, ::Symbol, ::Array{Int64,1}) at ./Base.jl:34",
      " [11] top-level scope at In[20]:1",
      " [12] include_string(::Function, ::Module, ::String, ::String) at ./loading.jl:1091",
      " [13] execute_code(::String, ::String) at /Users/per0/.julia/packages/IJulia/rWZ9e/src/execute_request.jl:27",
      " [14] execute_request(::ZMQ.Socket, ::IJulia.Msg) at /Users/per0/.julia/packages/IJulia/rWZ9e/src/execute_request.jl:86",
      " [15] #invokelatest#1 at ./essentials.jl:710 [inlined]",
      " [16] invokelatest at ./essentials.jl:709 [inlined]",
      " [17] eventloop(::ZMQ.Socket) at /Users/per0/.julia/packages/IJulia/rWZ9e/src/eventloop.jl:8",
      " [18] (::IJulia.var\"#15#18\")() at ./task.jl:356"
     ]
    }
   ],
   "source": [
    "julia.links = [1, 2, 3]"
   ]
  },
  {
   "cell_type": "code",
   "execution_count": 21,
   "metadata": {},
   "outputs": [
    {
     "data": {
      "text/plain": [
       "Array{Int64,1}"
      ]
     },
     "execution_count": 21,
     "metadata": {},
     "output_type": "execute_result"
    }
   ],
   "source": [
    "typeof([1, 2, 3])"
   ]
  },
  {
   "cell_type": "code",
   "execution_count": 22,
   "metadata": {},
   "outputs": [],
   "source": [
    "mutable struct Player\n",
    "    username::String\n",
    "    score::Int\n",
    "end"
   ]
  },
  {
   "cell_type": "code",
   "execution_count": 23,
   "metadata": {},
   "outputs": [
    {
     "data": {
      "text/plain": [
       "Player(\"adrian\", 0)"
      ]
     },
     "execution_count": 23,
     "metadata": {},
     "output_type": "execute_result"
    }
   ],
   "source": [
    "me = Player(\"adrian\", 0)"
   ]
  },
  {
   "cell_type": "code",
   "execution_count": 24,
   "metadata": {},
   "outputs": [
    {
     "data": {
      "text/plain": [
       "10"
      ]
     },
     "execution_count": 24,
     "metadata": {},
     "output_type": "execute_result"
    }
   ],
   "source": [
    "me.score += 10"
   ]
  },
  {
   "cell_type": "code",
   "execution_count": 25,
   "metadata": {},
   "outputs": [
    {
     "data": {
      "text/plain": [
       "Player(\"adrian\", 10)"
      ]
     },
     "execution_count": 25,
     "metadata": {},
     "output_type": "execute_result"
    }
   ],
   "source": [
    "me"
   ]
  },
  {
   "cell_type": "code",
   "execution_count": null,
   "metadata": {},
   "outputs": [],
   "source": [
    "exit() # to reload the Kernel and refresh the workspace"
   ]
  },
  {
   "cell_type": "code",
   "execution_count": 1,
   "metadata": {},
   "outputs": [],
   "source": [
    "abstract type Mammal end"
   ]
  },
  {
   "cell_type": "code",
   "execution_count": 2,
   "metadata": {},
   "outputs": [],
   "source": [
    "abstract type Person <: Mammal end"
   ]
  },
  {
   "cell_type": "code",
   "execution_count": 3,
   "metadata": {},
   "outputs": [],
   "source": [
    "mutable struct Player <: Person\n",
    "    username::String\n",
    "    score::Int\n",
    "end"
   ]
  },
  {
   "cell_type": "code",
   "execution_count": 4,
   "metadata": {},
   "outputs": [],
   "source": [
    "struct User <: Person\n",
    "    username::String\n",
    "    password::String\n",
    "end"
   ]
  },
  {
   "cell_type": "code",
   "execution_count": 5,
   "metadata": {},
   "outputs": [
    {
     "data": {
      "text/plain": [
       "User(\"sam\", \"password\")"
      ]
     },
     "execution_count": 5,
     "metadata": {},
     "output_type": "execute_result"
    }
   ],
   "source": [
    "sam = User(\"sam\", \"password\")"
   ]
  },
  {
   "cell_type": "code",
   "execution_count": 6,
   "metadata": {},
   "outputs": [
    {
     "data": {
      "text/plain": [
       "getusername (generic function with 1 method)"
      ]
     },
     "execution_count": 6,
     "metadata": {},
     "output_type": "execute_result"
    }
   ],
   "source": [
    "function getusername(p::Person)\n",
    "    p.username\n",
    "end"
   ]
  },
  {
   "cell_type": "code",
   "execution_count": 7,
   "metadata": {},
   "outputs": [
    {
     "data": {
      "text/plain": [
       "Player(\"adrian\", 0)"
      ]
     },
     "execution_count": 7,
     "metadata": {},
     "output_type": "execute_result"
    }
   ],
   "source": [
    "me = Player(\"adrian\", 0)"
   ]
  },
  {
   "cell_type": "code",
   "execution_count": 8,
   "metadata": {},
   "outputs": [
    {
     "data": {
      "text/plain": [
       "\"adrian\""
      ]
     },
     "execution_count": 8,
     "metadata": {},
     "output_type": "execute_result"
    }
   ],
   "source": [
    "getusername(me)"
   ]
  },
  {
   "cell_type": "code",
   "execution_count": 9,
   "metadata": {
    "scrolled": true
   },
   "outputs": [
    {
     "data": {
      "text/plain": [
       "\"sam\""
      ]
     },
     "execution_count": 9,
     "metadata": {},
     "output_type": "execute_result"
    }
   ],
   "source": [
    "getusername(sam)"
   ]
  },
  {
   "cell_type": "code",
   "execution_count": 10,
   "metadata": {},
   "outputs": [
    {
     "data": {
      "text/plain": [
       "Article(\"Julia is a high-level dynamic programming language\", [\"/wiki/Jeff_Bezanson\", \"/wiki/Stefan_Karpinski\", \"/wiki/Viral_B._Shah\", \"/wiki/Alan_Edelman\"], \"Julia (programming language)\", \"/220px-Julia_prog_language.svg.png\")"
      ]
     },
     "execution_count": 10,
     "metadata": {},
     "output_type": "execute_result"
    }
   ],
   "source": [
    "struct Article\n",
    "\tcontent::String\n",
    "    links::Vector{String}\n",
    "    title::String\n",
    "    image::String\n",
    "end\n",
    "julia = Article(\n",
    "           \"Julia is a high-level dynamic programming language\",\n",
    "           [\"/wiki/Jeff_Bezanson\", \n",
    "            \"/wiki/Stefan_Karpinski\", \n",
    "            \"/wiki/Viral_B._Shah\", \n",
    "            \"/wiki/Alan_Edelman\"],\n",
    "           \"Julia (programming language)\",\n",
    "           \"/220px-Julia_prog_language.svg.png\"\n",
    "       )"
   ]
  },
  {
   "cell_type": "code",
   "execution_count": 11,
   "metadata": {},
   "outputs": [
    {
     "data": {
      "text/plain": [
       "Union{Article, Person}"
      ]
     },
     "execution_count": 11,
     "metadata": {},
     "output_type": "execute_result"
    }
   ],
   "source": [
    "GameEntity = Union{Person,Article}"
   ]
  },
  {
   "cell_type": "code",
   "execution_count": 12,
   "metadata": {},
   "outputs": [
    {
     "data": {
      "text/plain": [
       "entityname (generic function with 1 method)"
      ]
     },
     "execution_count": 12,
     "metadata": {},
     "output_type": "execute_result"
    }
   ],
   "source": [
    "function entityname(e::GameEntity)\n",
    "\tisa(e, Person) ? e.username : e.title\n",
    "end"
   ]
  },
  {
   "cell_type": "code",
   "execution_count": 13,
   "metadata": {},
   "outputs": [
    {
     "data": {
      "text/plain": [
       "\"Julia (programming language)\""
      ]
     },
     "execution_count": 13,
     "metadata": {},
     "output_type": "execute_result"
    }
   ],
   "source": [
    "entityname(julia)"
   ]
  },
  {
   "cell_type": "code",
   "execution_count": 14,
   "metadata": {},
   "outputs": [
    {
     "data": {
      "text/plain": [
       "\"adrian\""
      ]
     },
     "execution_count": 14,
     "metadata": {},
     "output_type": "execute_result"
    }
   ],
   "source": [
    "entityname(me)"
   ]
  },
  {
   "cell_type": "code",
   "execution_count": 15,
   "metadata": {},
   "outputs": [
    {
     "data": {
      "text/plain": [
       "getscore (generic function with 1 method)"
      ]
     },
     "execution_count": 15,
     "metadata": {},
     "output_type": "execute_result"
    }
   ],
   "source": [
    "function getscore(p::Player)\n",
    "    p.score\n",
    "end"
   ]
  },
  {
   "cell_type": "code",
   "execution_count": 16,
   "metadata": {},
   "outputs": [],
   "source": [
    "mutable struct Customer\n",
    "    name::String\n",
    "    total_purchase_value::Float64\n",
    "    credit_score::Float64\n",
    "end"
   ]
  },
  {
   "cell_type": "code",
   "execution_count": 17,
   "metadata": {},
   "outputs": [
    {
     "data": {
      "text/plain": [
       "getscore (generic function with 2 methods)"
      ]
     },
     "execution_count": 17,
     "metadata": {},
     "output_type": "execute_result"
    }
   ],
   "source": [
    "function getscore(c::Customer)\n",
    "    c.credit_score\n",
    "end"
   ]
  },
  {
   "cell_type": "code",
   "execution_count": 18,
   "metadata": {},
   "outputs": [
    {
     "data": {
      "text/plain": [
       "getscore (generic function with 3 methods)"
      ]
     },
     "execution_count": 18,
     "metadata": {},
     "output_type": "execute_result"
    }
   ],
   "source": [
    "function getscore(t::Union{Player,Customer})\n",
    "    isa(t, Player) ? t.score : t.credit_score\n",
    "end"
   ]
  },
  {
   "cell_type": "code",
   "execution_count": 19,
   "metadata": {},
   "outputs": [
    {
     "data": {
      "text/plain": [
       "getscore (generic function with 4 methods)"
      ]
     },
     "execution_count": 19,
     "metadata": {},
     "output_type": "execute_result"
    }
   ],
   "source": [
    "function getscore(s)\n",
    "    if in(:score, fieldnames(typeof(s)))\n",
    "        s.score\n",
    "    elseif in(:credit_score, fieldnames(typeof(s)))\n",
    "        s.credit_score\n",
    "    else\n",
    "        error(\"$(typeof(s)) does not have a score property\")\n",
    "    end\n",
    "end"
   ]
  },
  {
   "cell_type": "code",
   "execution_count": 20,
   "metadata": {},
   "outputs": [
    {
     "data": {
      "text/html": [
       "getscore(p::<b>Player</b>) in Main at In[15]:1"
      ],
      "text/plain": [
       "getscore(p::Player) in Main at In[15]:1"
      ]
     },
     "execution_count": 20,
     "metadata": {},
     "output_type": "execute_result"
    }
   ],
   "source": [
    "@which getscore(me)"
   ]
  },
  {
   "cell_type": "code",
   "execution_count": 21,
   "metadata": {},
   "outputs": [
    {
     "data": {
      "text/plain": [
       "Customer(\"Sam\", 72.95, 100.0)"
      ]
     },
     "execution_count": 21,
     "metadata": {},
     "output_type": "execute_result"
    }
   ],
   "source": [
    "sam = Customer(\"Sam\", 72.95, 100)"
   ]
  },
  {
   "cell_type": "code",
   "execution_count": 22,
   "metadata": {},
   "outputs": [
    {
     "data": {
      "text/html": [
       "getscore(c::<b>Customer</b>) in Main at In[17]:1"
      ],
      "text/plain": [
       "getscore(c::Customer) in Main at In[17]:1"
      ]
     },
     "execution_count": 22,
     "metadata": {},
     "output_type": "execute_result"
    }
   ],
   "source": [
    "@which getscore(sam)"
   ]
  },
  {
   "cell_type": "code",
   "execution_count": 23,
   "metadata": {},
   "outputs": [
    {
     "data": {
      "text/html": [
       "getscore(s) in Main at In[19]:1"
      ],
      "text/plain": [
       "getscore(s) in Main at In[19]:1"
      ]
     },
     "execution_count": 23,
     "metadata": {},
     "output_type": "execute_result"
    }
   ],
   "source": [
    "@which getscore(julia)"
   ]
  },
  {
   "cell_type": "code",
   "execution_count": 24,
   "metadata": {},
   "outputs": [
    {
     "ename": "LoadError",
     "evalue": "Article does not have a score property",
     "output_type": "error",
     "traceback": [
      "Article does not have a score property",
      "",
      "Stacktrace:",
      " [1] error(::String) at ./error.jl:33",
      " [2] getscore(::Article) at ./In[19]:7",
      " [3] top-level scope at In[24]:1",
      " [4] include_string(::Function, ::Module, ::String, ::String) at ./loading.jl:1091",
      " [5] execute_code(::String, ::String) at /Users/per0/.julia/packages/IJulia/rWZ9e/src/execute_request.jl:27",
      " [6] execute_request(::ZMQ.Socket, ::IJulia.Msg) at /Users/per0/.julia/packages/IJulia/rWZ9e/src/execute_request.jl:86",
      " [7] #invokelatest#1 at ./essentials.jl:710 [inlined]",
      " [8] invokelatest at ./essentials.jl:709 [inlined]",
      " [9] eventloop(::ZMQ.Socket) at /Users/per0/.julia/packages/IJulia/rWZ9e/src/eventloop.jl:8",
      " [10] (::IJulia.var\"#15#18\")() at ./task.jl:356"
     ]
    }
   ],
   "source": [
    "getscore(julia)"
   ]
  },
  {
   "cell_type": "code",
   "execution_count": 26,
   "metadata": {},
   "outputs": [
    {
     "data": {
      "text/html": [
       "# 4 methods for generic function <b>getscore</b>:<ul><li> getscore(c::<b>Customer</b>) in Main at In[17]:1</li> <li> getscore(p::<b>Player</b>) in Main at In[15]:1</li> <li> getscore(t::<b>Union{Customer, Player}</b>) in Main at In[18]:1</li> <li> getscore(s) in Main at In[19]:1</li> </ul>"
      ],
      "text/plain": [
       "# 4 methods for generic function \"getscore\":\n",
       "[1] getscore(c::Customer) in Main at In[17]:1\n",
       "[2] getscore(p::Player) in Main at In[15]:1\n",
       "[3] getscore(t::Union{Customer, Player}) in Main at In[18]:1\n",
       "[4] getscore(s) in Main at In[19]:1"
      ]
     },
     "execution_count": 26,
     "metadata": {},
     "output_type": "execute_result"
    }
   ],
   "source": [
    "methods(getscore)"
   ]
  },
  {
   "cell_type": "code",
   "execution_count": null,
   "metadata": {},
   "outputs": [],
   "source": []
  }
 ],
 "metadata": {
  "kernelspec": {
   "display_name": "Julia 1.5.2",
   "language": "julia",
   "name": "julia-1.5"
  },
  "language_info": {
   "file_extension": ".jl",
   "mimetype": "application/julia",
   "name": "julia",
   "version": "1.5.2"
  }
 },
 "nbformat": 4,
 "nbformat_minor": 4
}
